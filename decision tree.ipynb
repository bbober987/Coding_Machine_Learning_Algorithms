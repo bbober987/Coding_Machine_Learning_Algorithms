{
 "cells": [
  {
   "cell_type": "markdown",
   "metadata": {},
   "source": [
    "#  How a decision tree works\n",
    "\n",
    "### This notebook shows basic binary outcome decision tree algorithm from scratch. It also creates a decision tree regressor."
   ]
  },
  {
   "cell_type": "code",
   "execution_count": 11,
   "metadata": {},
   "outputs": [],
   "source": [
    "import numpy as np\n",
    "import matplotlib.pyplot as plt\n",
    "%matplotlib inline"
   ]
  },
  {
   "cell_type": "markdown",
   "metadata": {},
   "source": [
    "A decision tree predicts data by asking a series of binary questions. Is the data in this column greater than or less than this value? If less proceed to the left node, if greater proceed to the right. Once an end condition is met, which for this example will be that all leafs have at least 5 observations, that branch is terminated and the prediction at that leaf is then determined by the majority class or average value of all data in the leaf."
   ]
  },
  {
   "cell_type": "markdown",
   "metadata": {},
   "source": [
    "### Determining the split point"
   ]
  },
  {
   "cell_type": "markdown",
   "metadata": {},
   "source": [
    "We want to determine split points by finding the column in the data and the point in that column where splitting the data gives us the most information. How do we define information gain? \n",
    "\n",
    "Well we want the leafs in our tree to be as homogenous as possible. Consider a data set with 50 % cClass 1 and 50% Class 2. Blindly picking an observation in this row yields a totally random result. By comparison, if the result were all or mostly Class 1, there would be no or little randomness to the outcome.\n",
    "\n",
    "This can be represented by the entropy function. If we define p1 as the percentage of observations with class 1, and p2 as the percentage of observations with class 2:\n",
    "\n",
    "\\begin{align}\n",
    "Entropy  = -p1*log(p1) - p2*log(p2)\n",
    "\\end{align}"
   ]
  },
  {
   "cell_type": "code",
   "execution_count": 1,
   "metadata": {},
   "outputs": [],
   "source": [
    " def get_entropy(y):\n",
    "        '''\n",
    "        Computes the entropy of y.\n",
    "        '''\n",
    "        p1 = np.mean(y)\n",
    "        p2 = 1 - p1\n",
    "        \n",
    "        if p1 == 0 or p2 == 0:\n",
    "            return 0\n",
    "        else:\n",
    "            return -np.log(p1)*p1 - np.log(p2)*p2"
   ]
  },
  {
   "cell_type": "markdown",
   "metadata": {},
   "source": [
    "If we split the data at a point, and get the entropy of the new data on both sides of the split, and take the average of those values weighted by the number of observations in each, we can access the combined entropy after the split. The information gain is then the entropy before the split - the entropy after the split. How can we find this point? Well, we can just loop through all columns in the data, split between every point, and through trial and error determine which point works best. Slow, but effective!"
   ]
  },
  {
   "cell_type": "code",
   "execution_count": null,
   "metadata": {},
   "outputs": [],
   "source": [
    "def maximum_info_gain(x_j, y, min_obs):\n",
    "        '''\n",
    "        Here x_j represents a single column from training data and y represents the outcomes. Stop splitting\n",
    "        if a split would have less than min_obs in the leaf.\n",
    "        '''\n",
    "        #sort the data\n",
    "        data = zip(x_j,y)\n",
    "        data = sorted(data, key = lambda x: x[0])\n",
    "        sorted_x_j, sorted_y = zip(*data)\n",
    "        sorted_x_j, sorted_y = np.array(sorted_x_j), np.array(sorted_y)\n",
    "        \n",
    "        # loop through the sorted data and split at every midpoint between points\n",
    "        info_gains = []\n",
    "        for i in range(len(x_j)-1):\n",
    "            split_point = (float(sorted_x_j[i]) + float(sorted_x_j[i+1]))/2\n",
    "            left_x, left_y = sorted_x_j[sorted_x_j < split_point], sorted_y[sorted_x_j < split_point]\n",
    "            right_x, right_y = sorted_x_j[sorted_x_j >= split_point], sorted_y[sorted_x_j >= split_point]\n",
    "            \n",
    "            #stop splitting if the split has less than minimum observation threshold.\n",
    "            if len(left_x) < min_obs or len(right_x) < min_obs:\n",
    "                continue\n",
    "            \n",
    "            #calculate new pooled entropy\n",
    "            left_entropy = get_entropy(left_y)\n",
    "            right_entropy = get_entropy(right_y)\n",
    "            total_entropy = left_entropy*len(left_x)/len(x_j) + right_entropy*len(right_x)/len(x_j)\n",
    "            \n",
    "            #append info gain\n",
    "            info_gains.append((split_point, get_entropy(y) - total_entropy))\n",
    "        \n",
    "        #return max gain\n",
    "        return(max(info_gains, key = lambda x:x[1]))"
   ]
  },
  {
   "cell_type": "code",
   "execution_count": null,
   "metadata": {},
   "outputs": [],
   "source": [
    "split_points, info_gains = zip(*[maximum_info_gain(X[:,x_j],self.y) for x_j in range(X.shape[1])])\n",
    "max_info_gain = max(info_gains)"
   ]
  },
  {
   "cell_type": "markdown",
   "metadata": {},
   "source": [
    "### Creating the tree structure"
   ]
  },
  {
   "cell_type": "markdown",
   "metadata": {},
   "source": [
    "Now we need to create the architecture to make a decision tree. We take all the training data, find the best split point, and then create child nodes on the left and the right of the split point. On each child node, we recursively do this until we hit the minimum allowable observations in a node. Then we vote on the result in each node. The decision tree fit function makes more sense in the context of a class, which will be depicted later."
   ]
  },
  {
   "cell_type": "code",
   "execution_count": 7,
   "metadata": {},
   "outputs": [],
   "source": [
    "def do_vote(y_vals):\n",
    "    '''\n",
    "    Returns most common value in y_vals\n",
    "    '''\n",
    "    y_0 = len([y for y in y_vals if y == 0])\n",
    "\n",
    "    if y_0 >= (len(y_vals) - y_0):\n",
    "        return 0\n",
    "    else:\n",
    "        return 1"
   ]
  },
  {
   "cell_type": "markdown",
   "metadata": {},
   "source": [
    "### Predicting results"
   ]
  },
  {
   "cell_type": "markdown",
   "metadata": {},
   "source": [
    "All that is left is to traverse the tree. For each observation, we traverse the tree. When we finally hit a terminal leaf node, which will be defined by not having a split point, we return the majority vote in the class. I've wrapped all the above functions, plus a fit and predict function, into the class below"
   ]
  },
  {
   "cell_type": "code",
   "execution_count": 31,
   "metadata": {},
   "outputs": [],
   "source": [
    "class DecisionTreeClassifier:\n",
    "\n",
    "    def __init__(self, min_obs=5):\n",
    "        self.min_obs = min_obs\n",
    "    \n",
    "    \n",
    "    def get_entropy(self, y):\n",
    "        '''\n",
    "        Computes the entropy of y.\n",
    "        '''\n",
    "        p1 = np.mean(y)\n",
    "        p2 = 1 - p1\n",
    "        \n",
    "        if p1 == 0 or p2 == 0:\n",
    "            return 0\n",
    "        else:\n",
    "            return -np.log(p1)*p1 - np.log(p2)*p2\n",
    "  \n",
    "    def maximum_info_gain(self,x_j, y):\n",
    "        '''\n",
    "        Here x_j represents a single column from training data and y represents the outcomes. Stop splitting\n",
    "        if a split would have less than min_obs in the leaf.\n",
    "        '''\n",
    "        #sort the data\n",
    "        data = zip(x_j,y)\n",
    "        data = sorted(data, key = lambda x: x[0])\n",
    "        sorted_x_j, sorted_y = zip(*data)\n",
    "        sorted_x_j, sorted_y = np.array(sorted_x_j), np.array(sorted_y)\n",
    "        \n",
    "        # loop through the sorted data and split at every midpoint between points\n",
    "        info_gains = []\n",
    "        for i in range(len(x_j)-1):\n",
    "            split_point = (float(sorted_x_j[i]) + float(sorted_x_j[i+1]))/2\n",
    "            left_x, left_y = sorted_x_j[sorted_x_j < split_point], sorted_y[sorted_x_j < split_point]\n",
    "            right_x, right_y = sorted_x_j[sorted_x_j >= split_point], sorted_y[sorted_x_j >= split_point]\n",
    "            \n",
    "            #stop splitting if the split has less than minimum observation threshold.\n",
    "            if len(left_x) < self.min_obs or len(right_x) < self.min_obs:\n",
    "                continue\n",
    "            \n",
    "            #calculate new pooled entropy\n",
    "            left_entropy = self.get_entropy(left_y)\n",
    "            right_entropy = self.get_entropy(right_y)\n",
    "            total_entropy = left_entropy*len(left_x)/len(x_j) + right_entropy*len(right_x)/len(x_j)\n",
    "            \n",
    "            #append info gain\n",
    "            info_gains.append((split_point, self.entropy - total_entropy))\n",
    "        \n",
    "        return(max(info_gains, key = lambda x:x[1]))\n",
    "        \n",
    "            \n",
    "    def do_vote(self, y_vals):\n",
    "        '''\n",
    "        Returns most common value in y_vals\n",
    "        '''\n",
    "        y_0 = len([y for y in y_vals if y == 0])\n",
    "        \n",
    "        if y_0 >= (len(y_vals) - y_0):\n",
    "            return 0\n",
    "        else:\n",
    "            return 1\n",
    "        \n",
    "    def fit(self,X,y):\n",
    "        '''\n",
    "        Fits a decision tree given training data X and outcomes y.\n",
    "        '''\n",
    "        #initializing some values\n",
    "        self.X = X\n",
    "        self.y = y\n",
    "        self.entropy = self.get_entropy(self.y)\n",
    "        self.vote = None\n",
    "        self.split_point = None\n",
    "        self.split_col = None\n",
    "        \n",
    "        #if X has enough observations and y isn't uniform we proceed\n",
    "        if self.X.shape[0] > self.min_obs and len(np.unique(self.y))>1:\n",
    "            \n",
    "            # get the best split point in each column\n",
    "            split_points, info_gains = zip(*[self.maximum_info_gain(self.X[:,x_j],self.y) for x_j in range(X.shape[1])])\n",
    "            print('prospective split points {}'.format(split_points))\n",
    "            print('prospective info_gains {}'.format(info_gains))\n",
    "            \n",
    "            max_info_gain = max(info_gains)\n",
    "            \n",
    "            \n",
    "            #if we can't gain info stop here and get the vote\n",
    "            if max_info_gain == 0:\n",
    "                self.vote = self.do_vote(self.y)\n",
    "                return None\n",
    "            \n",
    "            #choose best column\n",
    "            self.split_col = info_gains.index(max_info_gain)\n",
    "            self.split_point = split_points[self.split_col]\n",
    "            \n",
    "            #create new nodes for the children\n",
    "            self.left = DecisionTreeClassifier(min_obs = self.min_obs)\n",
    "            self.right = DecisionTreeClassifier(min_obs = self.min_obs)\n",
    "            \n",
    "            #generate splits\n",
    "            X_left, y_left = X[X[:,self.split_col] < self.split_point,:],  y[X[:,self.split_col] < self.split_point]\n",
    "            X_right, y_right = X[X[:,self.split_col] >= self.split_point,:],  y[X[:,self.split_col] >= self.split_point]\n",
    "            \n",
    "            #fit the children nodes\n",
    "            print('splitting at column {}, value {}'.format(self.split_col, self.split_point))\n",
    "            self.left.fit(X_left, y_left)\n",
    "            self.right.fit(X_right, y_right)\n",
    "        \n",
    "        #if X doesn't have enough observations, vote\n",
    "        else:\n",
    "            self.vote = self.do_vote(self.y)\n",
    "            \n",
    "    def predict_one(self, row):\n",
    "        '''\n",
    "        for one observation, traverses the tree and predicts the vote of the leaf it ends up in.\n",
    "        '''\n",
    "        \n",
    "        # if there's no split in this node, we return the vote. We always eventually end here.\n",
    "        if not self.split_point:\n",
    "            return self.vote\n",
    "        # otherwise if the value is greater than the split point, call predict on the right node\n",
    "        elif row[self.split_col] >= self.split_point:\n",
    "            return(self.right.predict_one(row))\n",
    "        # otherwise if the value is less than the split point, call predict on the left node\n",
    "        else:\n",
    "            return(self.left.predict_one(row))\n",
    "\n",
    "        \n",
    "    def predict(self, X):\n",
    "        '''\n",
    "        returns preditions for all X values\n",
    "        '''\n",
    "        preds = []\n",
    "        for row in X:\n",
    "            preds.append(self.predict_one(row))\n",
    "        \n",
    "        return(preds)\n",
    "            "
   ]
  },
  {
   "cell_type": "markdown",
   "metadata": {},
   "source": [
    "### Testing it out\n",
    "\n",
    "I'll create some simple test data"
   ]
  },
  {
   "cell_type": "code",
   "execution_count": 34,
   "metadata": {},
   "outputs": [],
   "source": [
    "testClassifier = DecisionTreeClassifier()"
   ]
  },
  {
   "cell_type": "code",
   "execution_count": 35,
   "metadata": {},
   "outputs": [],
   "source": [
    "X = np.concatenate([np.arange(1,21).reshape(20,1),np.array([0,1]*10).reshape(20,1) ],axis = 1)"
   ]
  },
  {
   "cell_type": "code",
   "execution_count": 36,
   "metadata": {},
   "outputs": [],
   "source": [
    "y = np.array([0]*10 + [1,0]*5)"
   ]
  },
  {
   "cell_type": "code",
   "execution_count": 37,
   "metadata": {},
   "outputs": [
    {
     "data": {
      "text/plain": [
       "<matplotlib.collections.PathCollection at 0x174ddb057b8>"
      ]
     },
     "execution_count": 37,
     "metadata": {},
     "output_type": "execute_result"
    },
    {
     "data": {
      "image/png": "[encoded data removed]",
      "text/plain": [
       "<matplotlib.figure.Figure at 0x174dda56f98>"
      ]
     },
     "metadata": {},
     "output_type": "display_data"
    }
   ],
   "source": [
    "plt.scatter(X[:,0],X[:,1], c = y) # split on X1 < 10, and then if X2 = 0 predict class 1, otherwise, class 2"
   ]
  },
  {
   "cell_type": "code",
   "execution_count": 38,
   "metadata": {
    "scrolled": true
   },
   "outputs": [
    {
     "name": "stdout",
     "output_type": "stream",
     "text": [
      "prospective split points (10.5, 0.5)\n",
      "prospective info_gains (0.21576155433883565, 0.21576155433883565)\n",
      "splitting at column 0, value 10.5\n",
      "prospective split points (15.5, 0.5)\n",
      "prospective info_gains (0.020135513550688766, 0.6931471805599453)\n",
      "splitting at column 1, value 0.5\n"
     ]
    }
   ],
   "source": [
    "testClassifier.fit(X,y)"
   ]
  },
  {
   "cell_type": "code",
   "execution_count": 39,
   "metadata": {},
   "outputs": [],
   "source": [
    "preds = testClassifier.predict(X)"
   ]
  },
  {
   "cell_type": "code",
   "execution_count": 40,
   "metadata": {},
   "outputs": [
    {
     "data": {
      "text/plain": [
       "array([ True,  True,  True,  True,  True,  True,  True,  True,  True,\n",
       "        True,  True,  True,  True,  True,  True,  True,  True,  True,\n",
       "        True,  True])"
      ]
     },
     "execution_count": 40,
     "metadata": {},
     "output_type": "execute_result"
    }
   ],
   "source": [
    "preds == y"
   ]
  },
  {
   "cell_type": "markdown",
   "metadata": {},
   "source": [
    "## Regression tree\n",
    "\n",
    "### We can also make a tree to handle problems with a continuous outcome - a regression tree."
   ]
  },
  {
   "cell_type": "markdown",
   "metadata": {},
   "source": [
    "It will work exactly the same way as above, except the entropy function will just be the standard deviation of the dependent variable"
   ]
  },
  {
   "cell_type": "code",
   "execution_count": 49,
   "metadata": {},
   "outputs": [],
   "source": [
    "class DecisionTreeRegressor:\n",
    "    \n",
    "    def __init__(self, min_obs=5):\n",
    "        self.min_obs = min_obs\n",
    "    \n",
    "    def get_entropy(self, y):\n",
    "        \n",
    "        return np.std(y)\n",
    "    \n",
    "    def maximum_info_gain(self,x_j, y):\n",
    "        \n",
    "        data = zip(x_j,y)\n",
    "        data = sorted(data, key = lambda x: x[0])\n",
    "        sorted_x_j, sorted_y = zip(*data)\n",
    "        sorted_x_j, sorted_y = np.array(sorted_x_j), np.array(sorted_y)\n",
    "        \n",
    "        info_gains = []\n",
    "        for i in range(len(x_j)-1):\n",
    "            split_point = (float(sorted_x_j[i]) + float(sorted_x_j[i+1]))/2\n",
    "            left_x, left_y = sorted_x_j[sorted_x_j < split_point], sorted_y[sorted_x_j < split_point]\n",
    "            right_x, right_y = sorted_x_j[sorted_x_j >= split_point], sorted_y[sorted_x_j >= split_point]\n",
    "            \n",
    "            if len(left_x) < self.min_obs or len(right_x) < self.min_obs:\n",
    "                continue\n",
    "            \n",
    "            left_entropy = self.get_entropy(left_y)\n",
    "            right_entropy = self.get_entropy(right_y)\n",
    "            total_entropy = left_entropy*len(left_x)/len(x_j) + right_entropy*len(right_x)/len(x_j)\n",
    "            info_gains.append((split_point, self.entropy - total_entropy))\n",
    "        \n",
    "        try:\n",
    "            return(max(info_gains, key = lambda x:x[1]))\n",
    "        except: return((0,0))\n",
    "        \n",
    "            \n",
    "    def do_vote(self, y_vals):\n",
    "        \n",
    "        return np.mean(y_vals)\n",
    "        \n",
    "    def fit(self,X,y):\n",
    "        self.X = X\n",
    "        self.y = y\n",
    "        self.entropy = self.get_entropy(self.y)\n",
    "        self.vote = None\n",
    "        self.split_point = None\n",
    "        self.split_col = None\n",
    "        \n",
    "        if self.X.shape[0] > self.min_obs and len(np.unique(self.y))>1 :\n",
    "            split_points, info_gains = zip(*[self.maximum_info_gain(self.X[:,x_j],self.y) for x_j in range(X.shape[1])])\n",
    "            print('prospective split points {}'.format(split_points))\n",
    "            print('prospective info_gains {}'.format(info_gains))\n",
    "            max_info_gain = max(info_gains)\n",
    "            \n",
    "            if max_info_gain == 0:\n",
    "                self.vote = self.do_vote(self.y)\n",
    "                return None\n",
    "                \n",
    "            self.split_col = info_gains.index(max_info_gain)\n",
    "            self.split_point = split_points[self.split_col]\n",
    "            self.left = DecisionTreeRegressor(min_obs = self.min_obs)\n",
    "            self.right = DecisionTreeRegressor(min_obs = self.min_obs)\n",
    "        \n",
    "            X_left, y_left = X[X[:,self.split_col] < self.split_point,:],  y[X[:,self.split_col] < self.split_point]\n",
    "            X_right, y_right = X[X[:,self.split_col] >= self.split_point,:],  y[X[:,self.split_col] >= self.split_point]\n",
    "            \n",
    "            print('splitting at column {}, value {}'.format(self.split_col, self.split_point))\n",
    "            self.left.fit(X_left, y_left)\n",
    "            self.right.fit(X_right, y_right)\n",
    "        else:\n",
    "            self.vote = self.do_vote(self.y)\n",
    "            \n",
    "    def predict_one(self, row):\n",
    "        \n",
    "        if self.X.shape[0] > self.min_obs and len(np.unique(self.y))>1:\n",
    "            if not self.split_point:\n",
    "                return self.vote\n",
    "            elif row[self.split_col] >= self.split_point:\n",
    "                return(self.right.predict_one(row))\n",
    "            else:\n",
    "                return(self.left.predict_one(row))\n",
    "        else:\n",
    "            return(self.vote)\n",
    "        \n",
    "    def predict(self, X):\n",
    "        \n",
    "        preds = []\n",
    "        for row in X:\n",
    "            preds.append(self.predict_one(row))\n",
    "        \n",
    "        return(preds)"
   ]
  },
  {
   "cell_type": "code",
   "execution_count": 50,
   "metadata": {},
   "outputs": [],
   "source": [
    "X = np.arange(-25,25).reshape(50,1)"
   ]
  },
  {
   "cell_type": "code",
   "execution_count": 51,
   "metadata": {},
   "outputs": [],
   "source": [
    "y = np.array(X**3)"
   ]
  },
  {
   "cell_type": "code",
   "execution_count": 52,
   "metadata": {},
   "outputs": [],
   "source": [
    "testRegressor = DecisionTreeRegressor()"
   ]
  },
  {
   "cell_type": "code",
   "execution_count": 53,
   "metadata": {
    "scrolled": false
   },
   "outputs": [
    {
     "name": "stdout",
     "output_type": "stream",
     "text": [
      "prospective split points (-15.5,)\n",
      "prospective info_gains (1970.0033728112921,)\n",
      "splitting at column 0, value -15.5\n",
      "prospective split points (-20.5,)\n",
      "prospective info_gains (1873.2516025089813,)\n",
      "splitting at column 0, value -20.5\n",
      "prospective split points (15.5,)\n",
      "prospective info_gains (2212.054609801628,)\n",
      "splitting at column 0, value 15.5\n",
      "prospective split points (-9.5,)\n",
      "prospective info_gains (432.86399090756254,)\n",
      "splitting at column 0, value -9.5\n",
      "prospective split points (0,)\n",
      "prospective info_gains (0,)\n",
      "prospective split points (9.5,)\n",
      "prospective info_gains (567.2968672151682,)\n",
      "splitting at column 0, value 9.5\n",
      "prospective split points (-4.5,)\n",
      "prospective info_gains (97.2485635710492,)\n",
      "splitting at column 0, value -4.5\n",
      "prospective split points (4.5,)\n",
      "prospective info_gains (128.3721728454437,)\n",
      "splitting at column 0, value 4.5\n",
      "prospective split points (0,)\n",
      "prospective info_gains (0,)\n",
      "prospective split points (0,)\n",
      "prospective info_gains (0,)\n",
      "prospective split points (0,)\n",
      "prospective info_gains (0,)\n"
     ]
    }
   ],
   "source": [
    "testRegressor.fit(X,y)"
   ]
  },
  {
   "cell_type": "code",
   "execution_count": 55,
   "metadata": {},
   "outputs": [],
   "source": [
    "preds = testRegressor.predict(X)"
   ]
  },
  {
   "cell_type": "code",
   "execution_count": 56,
   "metadata": {
    "scrolled": true
   },
   "outputs": [
    {
     "data": {
      "text/plain": [
       "[<matplotlib.lines.Line2D at 0x174ddadd4a8>]"
      ]
     },
     "execution_count": 56,
     "metadata": {},
     "output_type": "execute_result"
    },
    {
     "data": {
      "image/png": "[encoded data removed]",
      "text/plain": [
       "<matplotlib.figure.Figure at 0x174ddaddd68>"
      ]
     },
     "metadata": {},
     "output_type": "display_data"
    }
   ],
   "source": [
    "plt.scatter(X,y, alpha = 0.3)\n",
    "plt.plot(X,preds, c = 'red')"
   ]
  }
 ],
 "metadata": {
  "kernelspec": {
   "display_name": "Python 3",
   "language": "python",
   "name": "python3"
  },
  "language_info": {
   "codemirror_mode": {
    "name": "ipython",
    "version": 3
   },
   "file_extension": ".py",
   "mimetype": "text/x-python",
   "name": "python",
   "nbconvert_exporter": "python",
   "pygments_lexer": "ipython3",
   "version": "3.6.4"
  }
 },
 "nbformat": 4,
 "nbformat_minor": 2
}
