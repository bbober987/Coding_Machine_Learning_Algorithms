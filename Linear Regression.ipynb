{
 "cells": [
  {
   "cell_type": "code",
   "execution_count": 1,
   "metadata": {},
   "outputs": [],
   "source": [
    "import numpy as np\n",
    "import matplotlib.pyplot as plt\n",
    "%matplotlib inline"
   ]
  },
  {
   "cell_type": "code",
   "execution_count": 2,
   "metadata": {},
   "outputs": [],
   "source": [
    "X1 = np.random.randn(100).reshape(-1,1)\n",
    "X2 = np.random.randn(100).reshape(-1,1)\n",
    "y = X1*2 \n",
    "#X = np.concatenate((X1,X2),axis = 1)\n",
    "X = X1"
   ]
  },
  {
   "cell_type": "code",
   "execution_count": 3,
   "metadata": {},
   "outputs": [],
   "source": [
    "class LinearRegression:\n",
    "    \n",
    "    def __init__(self, tolerance = 1e-05, max_epoch = 1000):\n",
    "        \n",
    "        self.tolerance = tolerance\n",
    "        self.max_epoch = max_epoch\n",
    "        self.history = []\n",
    "        \n",
    "    def cost(self, X,y,weights):\n",
    "        return np.sum((X.dot(weights.reshape(X.shape[1],-1))-y)**2)/len(X)\n",
    "    \n",
    "    def gradient(self, X,y,weights):\n",
    "        return X.T.dot((X.dot(weights.reshape(X.shape[1],-1))-y)).reshape(X.shape[1])/len(X)\n",
    "        \n",
    "    def fit(self,X,y):\n",
    "        ones = np.array([1]*len(X)).reshape(len(X),-1)\n",
    "        self.X = np.concatenate([ones,X],axis = 1)\n",
    "        self.y = y.reshape(len(X),-1)\n",
    "        self.weights = np.random.randn(self.X.shape[1])\n",
    "        step_sizes = np.logspace(1,1e-10,12)\n",
    "        \n",
    "        weights_magnitude = np.sqrt(np.sum(self.weights**2))\n",
    "        previous_iter_weights_magnitude = np.Inf\n",
    "        count = 0\n",
    "        self.history.append(self.weights)\n",
    "\n",
    "        while abs(previous_iter_weights_magnitude - weights_magnitude) > self.tolerance and count < self.max_epoch:\n",
    "            \n",
    "            previous_iter_weights_magnitude = weights_magnitude.copy()\n",
    "            count += 1\n",
    "            gradient = self.gradient(self.X, self.y, self.weights)\n",
    "            print('cost is {}'.format(self.cost(self.X, self.y, self.weights)))\n",
    "            \n",
    "            tmp_weights = []\n",
    "            tmp_costs = []\n",
    "            \n",
    "            for step in step_sizes:\n",
    "                new_weight = self.weights - self.gradient(self.X,self.y,self.weights)*step\n",
    "                tmp_weights.append(new_weight)\n",
    "                tmp_costs.append(self.cost(self.X,self.y,new_weight))\n",
    "            \n",
    "\n",
    "\n",
    "            self.weights = tmp_weights[tmp_costs.index(min(tmp_costs))]\n",
    "            self.history.append(self.weights)\n",
    "            weights_magnitude = np.sqrt(np.sum(self.weights**2))\n",
    "            \n",
    "    def predict(self,X):\n",
    "        \n",
    "        ones = np.array([1]*len(X)).reshape(len(X),-1)\n",
    "        X = np.concatenate([ones,X],axis = 1)\n",
    "        \n",
    "        return(X.dot(self.weights.reshape(X.shape[1],-1)))"
   ]
  },
  {
   "cell_type": "code",
   "execution_count": 4,
   "metadata": {},
   "outputs": [],
   "source": [
    "testLinearReg = LinearRegression()"
   ]
  },
  {
   "cell_type": "code",
   "execution_count": 5,
   "metadata": {
    "scrolled": false
   },
   "outputs": [
    {
     "name": "stdout",
     "output_type": "stream",
     "text": [
      "cost is 5.017999486214571\n",
      "cost is 0.059479749733967274\n",
      "cost is 0.0007677765818810844\n",
      "cost is 9.988293129204927e-06\n",
      "cost is 1.30029751365853e-07\n",
      "cost is 1.6928549150724392e-09\n",
      "cost is 2.203935893213915e-11\n"
     ]
    }
   ],
   "source": [
    "testLinearReg.fit(X,y)"
   ]
  },
  {
   "cell_type": "code",
   "execution_count": 6,
   "metadata": {},
   "outputs": [],
   "source": [
    "preds = testLinearReg.predict(X)"
   ]
  },
  {
   "cell_type": "code",
   "execution_count": 7,
   "metadata": {},
   "outputs": [
    {
     "data": {
      "image/png": "[encoded data removed]",
      "text/plain": [
       "<matplotlib.figure.Figure at 0x288b426b400>"
      ]
     },
     "metadata": {},
     "output_type": "display_data"
    }
   ],
   "source": [
    "ones = np.array([1]*len(X)).reshape(len(X),-1)\n",
    "X = X1\n",
    "X = np.concatenate([ones,X], axis = 1)\n",
    "for weights in testLinearReg.history:\n",
    "    \n",
    "    plt.plot(X[:,1],X.dot(weights.reshape(X.shape[1],-1)))"
   ]
  }
 ],
 "metadata": {
  "kernelspec": {
   "display_name": "Python 3",
   "language": "python",
   "name": "python3"
  },
  "language_info": {
   "codemirror_mode": {
    "name": "ipython",
    "version": 3
   },
   "file_extension": ".py",
   "mimetype": "text/x-python",
   "name": "python",
   "nbconvert_exporter": "python",
   "pygments_lexer": "ipython3",
   "version": "3.6.4"
  }
 },
 "nbformat": 4,
 "nbformat_minor": 2
}
