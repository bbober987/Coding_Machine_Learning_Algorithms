{
 "cells": [
  {
   "cell_type": "code",
   "execution_count": 37,
   "metadata": {},
   "outputs": [],
   "source": [
    "import numpy as np\n",
    "import matplotlib.pyplot as plt\n",
    "%matplotlib inline"
   ]
  },
  {
   "cell_type": "code",
   "execution_count": 38,
   "metadata": {},
   "outputs": [],
   "source": [
    "def de_mean_numpy_matrix(np_matrix):\n",
    "    return (np_matrix - np_matrix.mean(axis = 0))"
   ]
  },
  {
   "cell_type": "code",
   "execution_count": 159,
   "metadata": {},
   "outputs": [],
   "source": [
    "class PCA:\n",
    "    \n",
    "    def __init__(self, step_size = .01,  max_no_improve_iter = 100, max_iter = 1000):\n",
    "        \n",
    "        self.step_size = step_size\n",
    "        self.max_no_improve_iter = max_no_improve_iter\n",
    "        self.max_iter = max_iter\n",
    "        self.history = []   \n",
    "        self.components = []\n",
    "    def value_function(self,x,theta):\n",
    "        theta = theta/np.linalg.norm(theta)\n",
    "        return np.dot(x,theta)**2\n",
    "    \n",
    "    def  gradient_function(self,x,theta):\n",
    "        theta = theta/np.linalg.norm(theta)\n",
    "        projection_length = np.dot(x, theta)\n",
    "        return 2*projection_length*x\n",
    "    \n",
    "    def optimize(self,x):\n",
    "        '''\n",
    "        Given an dataset of x and y numpy arrays performs stoachastic gradient descent. Begins\n",
    "        with random theta.\n",
    "        '''\n",
    "        no_improve_counter = 0\n",
    "        self.theta = np.repeat(1.0,x.shape[1])\n",
    "        theta_optimal = self.theta\n",
    "        max_value = -np.Inf\n",
    "        stepsize = self.step_size\n",
    "        max_iter = 0\n",
    "        while no_improve_counter < self.max_no_improve_iter and max_iter < self.max_iter:\n",
    "\n",
    "            cur_fun_value = np.sum(self.value_function(x,self.theta))\n",
    "                        \n",
    "            if cur_fun_value > max_value:\n",
    "                max_value = cur_fun_value\n",
    "                theta_optimal = self.theta\n",
    "                no_improve_counter = 0\n",
    "            else:\n",
    "                no_improve_counter += 1\n",
    "                stepsize *= .9\n",
    "                \n",
    "            np.random.shuffle(x)\n",
    "            self.history.append(self.theta)\n",
    " \n",
    "            for index in range(x.shape[0]):\n",
    "            \n",
    "                gradient = self.gradient_function(x[index,:],self.theta)\n",
    "                self.theta = self.theta + stepsize*gradient\n",
    "                \n",
    "            max_iter += 1\n",
    "            \n",
    "        self.theta = theta_optimal\n",
    "        return(self.theta)\n",
    "   \n",
    "    def scale_output(self):\n",
    "        self.theta = self.theta/np.linalg.norm(self.theta) \n",
    "        #self.history = [row/np.linalg.norm(row) for row in self.history]\n",
    "        return self.theta\n",
    "    \n",
    "    def reset_history(self):\n",
    "        self.history = []\n",
    "    \n",
    "    def project(self, x):\n",
    "        theta_stack = np.repeat(self.theta.reshape(1,len(self.theta)), len(x),axis = 0)\n",
    "        projection_length = np.dot(x,self.theta)\n",
    "        \n",
    "        return(np.dot(np.diag(projection_length),theta_stack))\n",
    "    \n",
    "    def remove_component(self, x):\n",
    "        self.scale_output()\n",
    "        return x - self.project(x)\n",
    "    \n",
    "    def get_all_components(self,X):\n",
    "        while len(self.components) < X.shape[1]:\n",
    "            self.optimize(X)\n",
    "            self.components.append(self.scale_output())\n",
    "            X = self.remove_component(X)\n",
    "            self.reset_history()\n",
    "        return(self.components)\n",
    "    \n",
    "    def return_components(self,x):\n",
    "        return np.hstack(np.dot(X, weights).reshape(len(X),1) for weights in components)"
   ]
  },
  {
   "cell_type": "code",
   "execution_count": 138,
   "metadata": {},
   "outputs": [],
   "source": [
    "x1 = np.linspace(0,49,50)\n",
    "x2 = x1*.5 + np.random.normal(5,5,50)\n",
    "X = np.stack((x1,x2),axis = 1)\n",
    "X = de_mean_numpy_matrix(X)"
   ]
  },
  {
   "cell_type": "code",
   "execution_count": 139,
   "metadata": {
    "scrolled": false
   },
   "outputs": [
    {
     "data": {
      "text/plain": [
       "<matplotlib.collections.PathCollection at 0x1c11c16cef0>"
      ]
     },
     "execution_count": 139,
     "metadata": {},
     "output_type": "execute_result"
    },
    {
     "data": {
      "image/png": "[encoded data removed]",
      "text/plain": [
       "<matplotlib.figure.Figure at 0x1c11cd45748>"
      ]
     },
     "metadata": {},
     "output_type": "display_data"
    }
   ],
   "source": [
    "plt.scatter(X[:,0],X[:,1])"
   ]
  },
  {
   "cell_type": "code",
   "execution_count": 160,
   "metadata": {},
   "outputs": [],
   "source": [
    "testPCA = PCA(max_iter=1000,step_size=0.01)"
   ]
  },
  {
   "cell_type": "code",
   "execution_count": 161,
   "metadata": {
    "scrolled": true
   },
   "outputs": [
    {
     "name": "stdout",
     "output_type": "stream",
     "text": [
      "[0.85433809 0.51971765]\n"
     ]
    }
   ],
   "source": [
    "testPCA.optimize(X)\n",
    "print(testPCA.scale_output())"
   ]
  },
  {
   "cell_type": "code",
   "execution_count": 162,
   "metadata": {
    "scrolled": false
   },
   "outputs": [
    {
     "data": {
      "text/plain": [
       "[<matplotlib.lines.Line2D at 0x1c11c827f98>]"
      ]
     },
     "execution_count": 162,
     "metadata": {},
     "output_type": "execute_result"
    },
    {
     "data": {
      "image/png": "[encoded data removed]",
      "text/plain": [
       "<matplotlib.figure.Figure at 0x1c11c827240>"
      ]
     },
     "metadata": {},
     "output_type": "display_data"
    }
   ],
   "source": [
    "components = testPCA.theta\n",
    "plt.scatter(X[:,0],X[:,1])\n",
    "plt.plot([0,components[0]*10],[0, components[1]*10], c = 'red')"
   ]
  },
  {
   "cell_type": "code",
   "execution_count": 163,
   "metadata": {},
   "outputs": [],
   "source": [
    "components = testPCA.get_all_components(X)"
   ]
  },
  {
   "cell_type": "code",
   "execution_count": 164,
   "metadata": {},
   "outputs": [
    {
     "data": {
      "text/plain": [
       "[array([0.85434452, 0.51970708]), array([-0.51964638,  0.85438144])]"
      ]
     },
     "execution_count": 164,
     "metadata": {},
     "output_type": "execute_result"
    }
   ],
   "source": [
    "components"
   ]
  },
  {
   "cell_type": "code",
   "execution_count": 165,
   "metadata": {
    "scrolled": false
   },
   "outputs": [
    {
     "data": {
      "image/png": "[encoded data removed]",
      "text/plain": [
       "<matplotlib.figure.Figure at 0x1c11c8275c0>"
      ]
     },
     "metadata": {},
     "output_type": "display_data"
    }
   ],
   "source": [
    "fig, ax = plt.subplots(figsize = (5,5))\n",
    "ax.set_xlim(-30,30)\n",
    "ax.set_ylim(-30,30)\n",
    "plt.scatter(X[:,0],X[:,1])\n",
    "for component in components:\n",
    "    ax.plot([0,component[0]*10], [0, component[1]*10],c = 'red')"
   ]
  },
  {
   "cell_type": "code",
   "execution_count": 166,
   "metadata": {},
   "outputs": [],
   "source": [
    "pca_data = testPCA.return_components(X)"
   ]
  },
  {
   "cell_type": "code",
   "execution_count": 168,
   "metadata": {},
   "outputs": [
    {
     "data": {
      "text/plain": [
       "<matplotlib.collections.PathCollection at 0x1c11c76d4e0>"
      ]
     },
     "execution_count": 168,
     "metadata": {},
     "output_type": "execute_result"
    },
    {
     "data": {
      "image/png": "[encoded data removed]",
      "text/plain": [
       "<matplotlib.figure.Figure at 0x1c11c81efd0>"
      ]
     },
     "metadata": {},
     "output_type": "display_data"
    }
   ],
   "source": [
    "plt.scatter(pca_data[:,0],pca_data[:,1])"
   ]
  },
  {
   "cell_type": "code",
   "execution_count": 169,
   "metadata": {
    "scrolled": true
   },
   "outputs": [],
   "source": [
    "from sklearn.decomposition import PCA as sklearn_PCA"
   ]
  },
  {
   "cell_type": "code",
   "execution_count": 170,
   "metadata": {},
   "outputs": [],
   "source": [
    "sklearn_pca = sklearn_PCA()"
   ]
  },
  {
   "cell_type": "code",
   "execution_count": 171,
   "metadata": {},
   "outputs": [
    {
     "data": {
      "text/plain": [
       "PCA(copy=True, iterated_power='auto', n_components=None, random_state=None,\n",
       "  svd_solver='auto', tol=0.0, whiten=False)"
      ]
     },
     "execution_count": 171,
     "metadata": {},
     "output_type": "execute_result"
    }
   ],
   "source": [
    "sklearn_pca.fit(X)"
   ]
  },
  {
   "cell_type": "code",
   "execution_count": 174,
   "metadata": {},
   "outputs": [
    {
     "data": {
      "text/plain": [
       "array([[ 0.85434035,  0.51971394],\n",
       "       [ 0.51971394, -0.85434035]])"
      ]
     },
     "execution_count": 174,
     "metadata": {},
     "output_type": "execute_result"
    }
   ],
   "source": [
    "sklearn_pca.components_"
   ]
  },
  {
   "cell_type": "code",
   "execution_count": 177,
   "metadata": {},
   "outputs": [
    {
     "data": {
      "text/plain": [
       "array([[ 11.84708628,   1.19669459],\n",
       "       [  6.58503431,   0.24269653],\n",
       "       [  1.71113013,  -1.99736008],\n",
       "       [ 18.94926664,  -2.52083974],\n",
       "       [  3.24708688,   4.37602421],\n",
       "       [-24.03982088,  -3.92370412],\n",
       "       [ 31.37618289,   8.28780003],\n",
       "       [  5.56870554,   2.42020691],\n",
       "       [-16.98214625,  -1.94192195],\n",
       "       [-11.64102981,   2.99037715]])"
      ]
     },
     "execution_count": 177,
     "metadata": {},
     "output_type": "execute_result"
    }
   ],
   "source": [
    "pca_data[:10,:]"
   ]
  },
  {
   "cell_type": "code",
   "execution_count": 175,
   "metadata": {},
   "outputs": [
    {
     "data": {
      "text/plain": [
       "array([[ 11.84709588,  -1.19575779],\n",
       "       [  6.58503625,  -0.24217581],\n",
       "       [  1.7111141 ,   1.99749539],\n",
       "       [ 18.94924639,   2.52233816],\n",
       "       [  3.24712199,  -4.37576746],\n",
       "       [-24.03985235,   3.92180318],\n",
       "       [ 31.37624938,  -8.28531898],\n",
       "       [  5.56872496,  -2.41976657],\n",
       "       [-16.98216182,   1.94057909],\n",
       "       [-11.6410058 ,  -2.99129767]])"
      ]
     },
     "execution_count": 175,
     "metadata": {},
     "output_type": "execute_result"
    }
   ],
   "source": [
    "sklearn_pca.transform(X)[:10,:]"
   ]
  }
 ],
 "metadata": {
  "kernelspec": {
   "display_name": "Python 3",
   "language": "python",
   "name": "python3"
  },
  "language_info": {
   "codemirror_mode": {
    "name": "ipython",
    "version": 3
   },
   "file_extension": ".py",
   "mimetype": "text/x-python",
   "name": "python",
   "nbconvert_exporter": "python",
   "pygments_lexer": "ipython3",
   "version": "3.6.4"
  }
 },
 "nbformat": 4,
 "nbformat_minor": 2
}
