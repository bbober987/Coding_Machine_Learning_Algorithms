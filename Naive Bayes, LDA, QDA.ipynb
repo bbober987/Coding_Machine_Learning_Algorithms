{
 "cells": [
  {
   "cell_type": "code",
   "execution_count": 117,
   "metadata": {},
   "outputs": [],
   "source": [
    "import numpy as np\n",
    "import scipy.stats as sps\n",
    "import matplotlib.pyplot as plt\n",
    "%matplotlib inline"
   ]
  },
  {
   "cell_type": "code",
   "execution_count": 118,
   "metadata": {},
   "outputs": [],
   "source": [
    "class NaiveBayesClassifier:\n",
    "    \n",
    "    def fit(self,X,y):\n",
    "        \n",
    "        gaussian_parameters = {}\n",
    "        \n",
    "        for outcome in np.unique(y):\n",
    "            tmp_x = X[y == outcome, :]\n",
    "            gaussian_parameters[outcome] =  [np.mean(tmp_x, axis = 0), np.var(tmp_x, axis = 0) + 1e-3, len(tmp_x)/len(X)]\n",
    "        \n",
    "        \n",
    "        self.gaussian_parameters = gaussian_parameters\n",
    "        \n",
    "    def predict(self,X):\n",
    "        \n",
    "        results = np.zeros((len(X), len(self.gaussian_parameters)))\n",
    "        \n",
    "        for outcome, gaussian_parameters in self.gaussian_parameters.items():\n",
    "            mean, var, priors = gaussian_parameters[0], gaussian_parameters[1], gaussian_parameters[2]\n",
    "            results[:,outcome] = sps.multivariate_normal.logpdf(X, mean = mean, cov = var) + np.log(priors)\n",
    "        \n",
    "        return(np.argmax(results,axis = 1))"
   ]
  },
  {
   "cell_type": "code",
   "execution_count": 119,
   "metadata": {},
   "outputs": [],
   "source": [
    "from sklearn.datasets import make_blobs\n",
    "from sklearn.naive_bayes import GaussianNB"
   ]
  },
  {
   "cell_type": "code",
   "execution_count": 120,
   "metadata": {},
   "outputs": [],
   "source": [
    "X,y = make_blobs(center_box=(-4,4))"
   ]
  },
  {
   "cell_type": "code",
   "execution_count": 121,
   "metadata": {},
   "outputs": [
    {
     "data": {
      "text/plain": [
       "<matplotlib.collections.PathCollection at 0x20e9925f5c0>"
      ]
     },
     "execution_count": 121,
     "metadata": {},
     "output_type": "execute_result"
    },
    {
     "data": {
      "image/png": "[encoded data removed]",
      "text/plain": [
       "<matplotlib.figure.Figure at 0x20e992a3588>"
      ]
     },
     "metadata": {},
     "output_type": "display_data"
    }
   ],
   "source": [
    "plt.scatter(X[:,0],X[:,1],c = y)"
   ]
  },
  {
   "cell_type": "code",
   "execution_count": 122,
   "metadata": {},
   "outputs": [],
   "source": [
    "NB = NaiveBayesClassifier()"
   ]
  },
  {
   "cell_type": "code",
   "execution_count": 123,
   "metadata": {},
   "outputs": [],
   "source": [
    "NB.fit(X,y)"
   ]
  },
  {
   "cell_type": "code",
   "execution_count": 124,
   "metadata": {},
   "outputs": [],
   "source": [
    "preds = NB.predict(X)"
   ]
  },
  {
   "cell_type": "code",
   "execution_count": 125,
   "metadata": {},
   "outputs": [
    {
     "data": {
      "text/plain": [
       "0.77"
      ]
     },
     "execution_count": 125,
     "metadata": {},
     "output_type": "execute_result"
    }
   ],
   "source": [
    "np.mean(preds == y)"
   ]
  },
  {
   "cell_type": "code",
   "execution_count": 126,
   "metadata": {},
   "outputs": [],
   "source": [
    "sklearn_nb_test = GaussianNB()\n",
    "sklearn_nb_test.fit(X,y)\n",
    "sklearn_preds = sklearn_nb_test.predict(X)"
   ]
  },
  {
   "cell_type": "code",
   "execution_count": 127,
   "metadata": {},
   "outputs": [
    {
     "data": {
      "text/plain": [
       "array([ True,  True,  True,  True,  True,  True,  True,  True,  True,\n",
       "        True,  True,  True,  True,  True,  True,  True,  True,  True,\n",
       "        True,  True,  True,  True,  True,  True,  True,  True,  True,\n",
       "        True,  True,  True,  True,  True,  True,  True,  True,  True,\n",
       "        True,  True,  True,  True,  True,  True,  True,  True,  True,\n",
       "        True,  True,  True,  True,  True,  True,  True,  True,  True,\n",
       "        True,  True,  True,  True,  True,  True,  True,  True,  True,\n",
       "        True,  True,  True,  True,  True,  True,  True,  True,  True,\n",
       "        True,  True,  True,  True,  True,  True,  True,  True,  True,\n",
       "        True,  True,  True,  True,  True,  True,  True,  True,  True,\n",
       "        True,  True,  True,  True,  True,  True,  True,  True,  True,\n",
       "        True])"
      ]
     },
     "execution_count": 127,
     "metadata": {},
     "output_type": "execute_result"
    }
   ],
   "source": [
    "sklearn_preds == preds"
   ]
  },
  {
   "cell_type": "code",
   "execution_count": 128,
   "metadata": {},
   "outputs": [
    {
     "data": {
      "text/plain": [
       "<matplotlib.contour.QuadContourSet at 0x20e9a5c1240>"
      ]
     },
     "execution_count": 128,
     "metadata": {},
     "output_type": "execute_result"
    },
    {
     "data": {
      "image/png": "[encoded data removed]",
      "text/plain": [
       "<matplotlib.figure.Figure at 0x20e99168470>"
      ]
     },
     "metadata": {},
     "output_type": "display_data"
    }
   ],
   "source": [
    "vector_space = np.meshgrid(np.linspace(-10,10), np.linspace(-5,5))\n",
    "predictions = NB.predict(np.c_[vector_space[0].ravel(), vector_space[1].ravel()])\n",
    "predictions = np.array(predictions).reshape(vector_space[0].shape)\n",
    "plt.contourf(vector_space[0],vector_space[1], predictions)"
   ]
  },
  {
   "cell_type": "code",
   "execution_count": 129,
   "metadata": {},
   "outputs": [],
   "source": [
    "class QDAClassifier:\n",
    "    \n",
    "    def fit(self,X,y):\n",
    "        \n",
    "        gaussian_parameters = {}\n",
    "        \n",
    "        for outcome in np.unique(y):\n",
    "            tmp_x = X[y == outcome, :]\n",
    "            gaussian_parameters[outcome] =  [np.mean(tmp_x, axis = 0), np.cov(tmp_x.T) + 1e-3, len(tmp_x)/len(X)]\n",
    "        \n",
    "        \n",
    "        self.gaussian_parameters = gaussian_parameters\n",
    "        \n",
    "    def predict(self,X):\n",
    "        \n",
    "        results = np.zeros((len(X), len(self.gaussian_parameters)))\n",
    "        \n",
    "        for outcome, gaussian_parameters in self.gaussian_parameters.items():\n",
    "            mean, var, priors = gaussian_parameters[0], gaussian_parameters[1], gaussian_parameters[2]\n",
    "            results[:,outcome] = sps.multivariate_normal.logpdf(X, mean = mean, cov = var) + np.log(priors)\n",
    "        \n",
    "        return(np.argmax(results,axis = 1))"
   ]
  },
  {
   "cell_type": "code",
   "execution_count": 130,
   "metadata": {},
   "outputs": [],
   "source": [
    "QDA = QDAClassifier()"
   ]
  },
  {
   "cell_type": "code",
   "execution_count": 131,
   "metadata": {},
   "outputs": [],
   "source": [
    "QDA.fit(X,y)"
   ]
  },
  {
   "cell_type": "code",
   "execution_count": 132,
   "metadata": {},
   "outputs": [],
   "source": [
    "preds = QDA.predict(X)"
   ]
  },
  {
   "cell_type": "code",
   "execution_count": 133,
   "metadata": {},
   "outputs": [
    {
     "data": {
      "text/plain": [
       "0.8"
      ]
     },
     "execution_count": 133,
     "metadata": {},
     "output_type": "execute_result"
    }
   ],
   "source": [
    "np.mean(preds == y)"
   ]
  },
  {
   "cell_type": "code",
   "execution_count": 134,
   "metadata": {},
   "outputs": [
    {
     "data": {
      "text/plain": [
       "<matplotlib.contour.QuadContourSet at 0x20e9912a0f0>"
      ]
     },
     "execution_count": 134,
     "metadata": {},
     "output_type": "execute_result"
    },
    {
     "data": {
      "image/png": "[encoded data removed]",
      "text/plain": [
       "<matplotlib.figure.Figure at 0x20e99191828>"
      ]
     },
     "metadata": {},
     "output_type": "display_data"
    }
   ],
   "source": [
    "vector_space = np.meshgrid(np.linspace(-10,10), np.linspace(-5,5))\n",
    "predictions = QDA.predict(np.c_[vector_space[0].ravel(), vector_space[1].ravel()])\n",
    "predictions = np.array(predictions).reshape(vector_space[0].shape)\n",
    "plt.contourf(vector_space[0],vector_space[1], predictions)"
   ]
  },
  {
   "cell_type": "code",
   "execution_count": 135,
   "metadata": {},
   "outputs": [],
   "source": [
    "class LDAClassifier:\n",
    "    \n",
    "    def fit(self,X,y):\n",
    "        \n",
    "        gaussian_parameters = {}\n",
    "        \n",
    "        for outcome in np.unique(y):\n",
    "            tmp_x = X[y == outcome, :]\n",
    "            gaussian_parameters[outcome] =  [np.mean(tmp_x, axis = 0), np.cov(tmp_x.T) + 1e-3, len(tmp_x)/len(X)]\n",
    "        \n",
    "        pooled_cov = np.zeros_like(gaussian_parameters[0][1])\n",
    "        for outcome, parameters in gaussian_parameters.items():\n",
    "            pooled_cov += parameters[1]*parameters[2]\n",
    "            \n",
    "        self.gaussian_parameters = gaussian_parameters\n",
    "        self.pooled_cov = pooled_cov\n",
    "        \n",
    "    def predict(self,X):\n",
    "        \n",
    "        results = np.zeros((len(X), len(self.gaussian_parameters)))\n",
    "        \n",
    "        for outcome, gaussian_parameters in self.gaussian_parameters.items():\n",
    "            mean, var, priors = gaussian_parameters[0], gaussian_parameters[1], gaussian_parameters[2]\n",
    "            results[:,outcome] = sps.multivariate_normal.logpdf(X, mean = mean, cov = self.pooled_cov) + np.log(priors)\n",
    "        \n",
    "        return(np.argmax(results,axis = 1))"
   ]
  },
  {
   "cell_type": "code",
   "execution_count": 136,
   "metadata": {},
   "outputs": [],
   "source": [
    "LDA = LDAClassifier()"
   ]
  },
  {
   "cell_type": "code",
   "execution_count": 137,
   "metadata": {},
   "outputs": [],
   "source": [
    "LDA.fit(X,y)"
   ]
  },
  {
   "cell_type": "code",
   "execution_count": 138,
   "metadata": {},
   "outputs": [],
   "source": [
    "preds = LDA.predict(X)"
   ]
  },
  {
   "cell_type": "code",
   "execution_count": 139,
   "metadata": {},
   "outputs": [
    {
     "data": {
      "text/plain": [
       "0.77"
      ]
     },
     "execution_count": 139,
     "metadata": {},
     "output_type": "execute_result"
    }
   ],
   "source": [
    "np.mean(preds == y)"
   ]
  },
  {
   "cell_type": "code",
   "execution_count": 140,
   "metadata": {},
   "outputs": [
    {
     "data": {
      "text/plain": [
       "<matplotlib.contour.QuadContourSet at 0x20e9a56f588>"
      ]
     },
     "execution_count": 140,
     "metadata": {},
     "output_type": "execute_result"
    },
    {
     "data": {
      "image/png": "[encoded data removed]",
      "text/plain": [
       "<matplotlib.figure.Figure at 0x20e9a52fc18>"
      ]
     },
     "metadata": {},
     "output_type": "display_data"
    }
   ],
   "source": [
    "vector_space = np.meshgrid(np.linspace(-10,10), np.linspace(-5,5))\n",
    "predictions = LDA.predict(np.c_[vector_space[0].ravel(), vector_space[1].ravel()])\n",
    "predictions = np.array(predictions).reshape(vector_space[0].shape)\n",
    "plt.contourf(vector_space[0],vector_space[1], predictions)"
   ]
  }
 ],
 "metadata": {
  "kernelspec": {
   "display_name": "Python 3",
   "language": "python",
   "name": "python3"
  },
  "language_info": {
   "codemirror_mode": {
    "name": "ipython",
    "version": 3
   },
   "file_extension": ".py",
   "mimetype": "text/x-python",
   "name": "python",
   "nbconvert_exporter": "python",
   "pygments_lexer": "ipython3",
   "version": "3.6.4"
  }
 },
 "nbformat": 4,
 "nbformat_minor": 2
}
