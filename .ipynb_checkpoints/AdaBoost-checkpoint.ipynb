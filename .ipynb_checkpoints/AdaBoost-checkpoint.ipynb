{
 "cells": [
  {
   "cell_type": "code",
   "execution_count": 19,
   "metadata": {},
   "outputs": [],
   "source": [
    "from sklearn.tree import DecisionTreeClassifier\n",
    "import numpy as np\n",
    "import pandas as pd\n",
    "import matplotlib.pyplot as plt\n",
    "%matplotlib inline"
   ]
  },
  {
   "cell_type": "code",
   "execution_count": 31,
   "metadata": {},
   "outputs": [],
   "source": [
    "class Adaboost:\n",
    "    \n",
    "    def __init__(self, n_tree):\n",
    "        self.n_tree = n_tree\n",
    "        \n",
    "    def fit(self, X,y,Xtest,ytest):\n",
    "        count = 0\n",
    "        \n",
    "        self.trees = []\n",
    "        self.alpha = []\n",
    "        self.training_accuracy = []\n",
    "        self.test_accuracy = []\n",
    "        weights = np.ones(len(X))/len(X)\n",
    "\n",
    "        while count < self.n_tree:\n",
    "            count += 1\n",
    "            tree = DecisionTreeClassifier(max_depth = 1)\n",
    "            tree.fit(X,y,sample_weight=weights)\n",
    "            preds = tree.predict(X)\n",
    "            \n",
    "            error = weights.dot(preds != y)\n",
    "            alpha = 0.5*(np.log(1-error) - np.log(error))\n",
    "            weights = np.array(weights*np.exp(-alpha*y*preds)) \n",
    "            weights = weights/weights.sum()\n",
    "            \n",
    "            self.trees.append(tree)\n",
    "            self.alpha.append(alpha)\n",
    "            self.training_accuracy.append(np.mean(self.predict(X) == y))\n",
    "            self.test_accuracy.append(np.mean(self.predict(Xtest) == ytest))\n",
    "\n",
    "    def predict(self,X):\n",
    "        preds = np.concatenate([tree.predict(X).reshape(-1,1) for tree in self.trees],axis = 1)\n",
    "        preds = preds.dot(np.array(self.alpha))\n",
    "        return np.sign(preds)"
   ]
  },
  {
   "cell_type": "code",
   "execution_count": 24,
   "metadata": {},
   "outputs": [],
   "source": [
    "mushroom_data = pd.read_table('https://archive.ics.uci.edu/ml/machine-learning-databases/mushroom/agaricus-lepiota.data',\n",
    "                              delimiter=',', header = None)"
   ]
  },
  {
   "cell_type": "code",
   "execution_count": 25,
   "metadata": {},
   "outputs": [],
   "source": [
    "mushroom_data.iloc[:,0] = mushroom_data.iloc[:,0].apply(lambda x: -1 if x == 'p' else 1)"
   ]
  },
  {
   "cell_type": "code",
   "execution_count": 44,
   "metadata": {},
   "outputs": [],
   "source": [
    "mushroom_data = pd.get_dummies(mushroom_data)\n",
    "train = mushroom_data.sample(frac = .5)\n",
    "test = mushroom_data.loc[~mushroom_data.index.isin(train.index),:]"
   ]
  },
  {
   "cell_type": "code",
   "execution_count": 45,
   "metadata": {},
   "outputs": [],
   "source": [
    "Xtrain, ytrain = train.iloc[:,1:], train.iloc[:,0]\n",
    "Xtest, ytest = test.iloc[:,1:], test.iloc[:,0]"
   ]
  },
  {
   "cell_type": "code",
   "execution_count": 46,
   "metadata": {},
   "outputs": [],
   "source": [
    "ada = Adaboost(100)"
   ]
  },
  {
   "cell_type": "code",
   "execution_count": 47,
   "metadata": {},
   "outputs": [],
   "source": [
    "ada.fit(Xtrain,ytrain,Xtest,ytest)"
   ]
  },
  {
   "cell_type": "code",
   "execution_count": 48,
   "metadata": {},
   "outputs": [
    {
     "data": {
      "text/plain": [
       "<matplotlib.legend.Legend at 0x2daf315d6a0>"
      ]
     },
     "execution_count": 48,
     "metadata": {},
     "output_type": "execute_result"
    },
    {
     "data": {
      "image/png": "[encoded data removed]",
      "text/plain": [
       "<matplotlib.figure.Figure at 0x2daf1ba5438>"
      ]
     },
     "metadata": {},
     "output_type": "display_data"
    }
   ],
   "source": [
    "plt.plot(ada.training_accuracy, label = 'Training Accuracy')\n",
    "plt.plot(ada.test_accuracy, label = 'Test Accuracy')\n",
    "plt.legend()"
   ]
  },
  {
   "cell_type": "code",
   "execution_count": 49,
   "metadata": {},
   "outputs": [],
   "source": [
    "preds = ada.predict(Xtest)"
   ]
  },
  {
   "cell_type": "code",
   "execution_count": 50,
   "metadata": {},
   "outputs": [
    {
     "data": {
      "text/plain": [
       "array([-1.,  1.,  1., ...,  1.,  1., -1.])"
      ]
     },
     "execution_count": 50,
     "metadata": {},
     "output_type": "execute_result"
    }
   ],
   "source": [
    "preds"
   ]
  },
  {
   "cell_type": "code",
   "execution_count": 52,
   "metadata": {},
   "outputs": [
    {
     "data": {
      "text/plain": [
       "0.999507631708518"
      ]
     },
     "execution_count": 52,
     "metadata": {},
     "output_type": "execute_result"
    }
   ],
   "source": [
    "np.mean(preds == ytest)"
   ]
  }
 ],
 "metadata": {
  "kernelspec": {
   "display_name": "Python 3",
   "language": "python",
   "name": "python3"
  },
  "language_info": {
   "codemirror_mode": {
    "name": "ipython",
    "version": 3
   },
   "file_extension": ".py",
   "mimetype": "text/x-python",
   "name": "python",
   "nbconvert_exporter": "python",
   "pygments_lexer": "ipython3",
   "version": "3.6.4"
  }
 },
 "nbformat": 4,
 "nbformat_minor": 2
}
