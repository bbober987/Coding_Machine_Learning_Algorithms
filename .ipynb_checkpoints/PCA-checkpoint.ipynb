{
 "cells": [
  {
   "cell_type": "code",
   "execution_count": 1,
   "metadata": {},
   "outputs": [],
   "source": [
    "import numpy as np\n",
    "import matplotlib.pyplot as plt\n",
    "%matplotlib inline"
   ]
  },
  {
   "cell_type": "code",
   "execution_count": 2,
   "metadata": {},
   "outputs": [],
   "source": [
    "def de_mean_numpy_matrix(np_matrix):\n",
    "    return (np_matrix - np_matrix.mean(axis = 0))"
   ]
  },
  {
   "cell_type": "code",
   "execution_count": 3,
   "metadata": {},
   "outputs": [],
   "source": [
    "class PCA:\n",
    "    \n",
    "    def __init__(self, step_size = .0001, max_iter = 1000):\n",
    "        \n",
    "        self.step_size = step_size\n",
    "        self.max_iter = max_iter\n",
    "        self.history = []   \n",
    "        self.components = []\n",
    "        \n",
    "    def projection_variance(self,X,theta):\n",
    "        '''\n",
    "        For centered data the variance of the projection is just\n",
    "        the projection squared and summed up. This is equivalent to\n",
    "        loadings.T*X.T*X*loadings (all matrix multiplication)\n",
    "        '''\n",
    "        return self.theta.dot(X.T.dot(X).dot(self.theta.T))[0][0]\n",
    "    \n",
    "    def gradient(self,X,theta):\n",
    "        '''\n",
    "        Similar to linear regression gradient. If we are trying to \n",
    "        maximize variance = loadings.T*X.T*X*loadings then \n",
    "        dVar/dloadings = 2*X.T*X*Theta.T\n",
    "        '''\n",
    "        return 2*X.T.dot(X).dot(self.theta.T).T\n",
    "    \n",
    "    def normalize(self,theta):\n",
    "        '''\n",
    "        results should be scaled to have magnitude 1\n",
    "        '''\n",
    "        return theta/np.linalg.norm(theta)\n",
    "    \n",
    "    def fit(self,X):\n",
    "        '''\n",
    "        Given a numpy array returns first principal component\n",
    "        via gradient descent. This should be equivalent to those\n",
    "        obtained by determined the eigenvectors, but it makes more\n",
    "        intuitive sense to me this way.\n",
    "        '''\n",
    "        self.theta = np.repeat(1.0,X.shape[1])/X.shape[1]\n",
    "        self.theta = self.theta.reshape(1,-1)\n",
    "        step_size = self.step_size\n",
    "        history = []\n",
    "        for epoch in range(self.max_iter):\n",
    "            gradient = self.gradient(X, self.theta)\n",
    "            self.theta += step_size*gradient\n",
    "            self.theta = self.normalize(self.theta)\n",
    "            history.append(self.projection_variance(X, self.theta))\n",
    "            if len(history) > 2 and history[-2] <= history[-1]:\n",
    "                step_size *= .5 # if we arent improving decrease the step size\n",
    "            \n",
    "        self.history.append(history)  \n",
    "        return(self.theta)\n",
    "   \n",
    "    \n",
    "    def project(self, X):\n",
    "        '''\n",
    "        Projects X onto the principle component\n",
    "        '''\n",
    "        return(X.dot(self.theta.T)*self.theta)\n",
    "    \n",
    "    def remove_component(self, X):\n",
    "        '''\n",
    "        removes the projection so the next component can be found\n",
    "        '''\n",
    "        return X - self.project(X)\n",
    "    \n",
    "    def get_all_components(self,X):\n",
    "        '''\n",
    "        gets all possible components\n",
    "        '''\n",
    "        while len(self.components) < X.shape[1]:\n",
    "            self.fit(X)\n",
    "            self.components.append(self.theta.reshape(X.shape[1],))\n",
    "            X = self.remove_component(X)\n",
    "        return(self.components)\n",
    "    \n",
    "#     def return_components(self,x):\n",
    "#         return np.hstack(np.dot(X, weights).reshape(len(X),1) for weights in components)"
   ]
  },
  {
   "cell_type": "code",
   "execution_count": 4,
   "metadata": {},
   "outputs": [],
   "source": [
    "x1 = np.linspace(0,49,50)\n",
    "x2 = x1*.5 + np.random.normal(5,5,50)\n",
    "X = np.stack((x1,x2),axis = 1)\n",
    "X = de_mean_numpy_matrix(X)"
   ]
  },
  {
   "cell_type": "code",
   "execution_count": 5,
   "metadata": {
    "scrolled": true
   },
   "outputs": [],
   "source": [
    "testPCA = PCA(max_iter=10,step_size=1e-1)"
   ]
  },
  {
   "cell_type": "code",
   "execution_count": 6,
   "metadata": {
    "scrolled": true
   },
   "outputs": [
    {
     "data": {
      "text/plain": [
       "array([[ 0.85092997,  0.52527915]])"
      ]
     },
     "execution_count": 6,
     "metadata": {},
     "output_type": "execute_result"
    }
   ],
   "source": [
    "testPCA.fit(X)"
   ]
  },
  {
   "cell_type": "code",
   "execution_count": 7,
   "metadata": {},
   "outputs": [
    {
     "data": {
      "text/plain": [
       "[<matplotlib.lines.Line2D at 0x1b2b4e5b278>]"
      ]
     },
     "execution_count": 7,
     "metadata": {},
     "output_type": "execute_result"
    },
    {
     "data": {
      "image/png": "[encoded data removed]",
      "text/plain": [
       "<matplotlib.figure.Figure at 0x1b2b4e5b5f8>"
      ]
     },
     "metadata": {},
     "output_type": "display_data"
    }
   ],
   "source": [
    "components = testPCA.theta[0]\n",
    "plt.scatter(X[:,0],X[:,1])\n",
    "plt.plot([0,components[0]*10],[0, components[1]*10], c = 'red')"
   ]
  },
  {
   "cell_type": "code",
   "execution_count": 8,
   "metadata": {},
   "outputs": [
    {
     "data": {
      "text/plain": [
       "[<matplotlib.lines.Line2D at 0x1b2b562ea58>]"
      ]
     },
     "execution_count": 8,
     "metadata": {},
     "output_type": "execute_result"
    },
    {
     "data": {
      "image/png": "[encoded data removed]",
      "text/plain": [
       "<matplotlib.figure.Figure at 0x1b2b55c77b8>"
      ]
     },
     "metadata": {},
     "output_type": "display_data"
    }
   ],
   "source": [
    "plt.plot(testPCA.history[0])"
   ]
  },
  {
   "cell_type": "code",
   "execution_count": 9,
   "metadata": {},
   "outputs": [
    {
     "data": {
      "text/plain": [
       "array([[-0.85092997, -0.52527915],\n",
       "       [-0.52527915,  0.85092997]])"
      ]
     },
     "execution_count": 9,
     "metadata": {},
     "output_type": "execute_result"
    }
   ],
   "source": [
    "from sklearn.decomposition import PCA as sklearn_PCA\n",
    "sklearn_pca = sklearn_PCA()\n",
    "sklearn_pca.fit(X)\n",
    "sklearn_pca.components_"
   ]
  },
  {
   "cell_type": "code",
   "execution_count": 10,
   "metadata": {},
   "outputs": [],
   "source": [
    "first_component_removed = X - X.dot(testPCA.theta.T)*testPCA.theta"
   ]
  },
  {
   "cell_type": "code",
   "execution_count": 11,
   "metadata": {},
   "outputs": [
    {
     "data": {
      "text/plain": [
       "<matplotlib.collections.PathCollection at 0x1b2b6493c50>"
      ]
     },
     "execution_count": 11,
     "metadata": {},
     "output_type": "execute_result"
    },
    {
     "data": {
      "image/png": "[encoded data removed]",
      "text/plain": [
       "<matplotlib.figure.Figure at 0x1b2b573df98>"
      ]
     },
     "metadata": {},
     "output_type": "display_data"
    }
   ],
   "source": [
    "plt.scatter(first_component_removed[:,0],first_component_removed[:,1])"
   ]
  },
  {
   "cell_type": "code",
   "execution_count": 12,
   "metadata": {
    "scrolled": true
   },
   "outputs": [
    {
     "data": {
      "text/plain": [
       "[<matplotlib.lines.Line2D at 0x1b2b74c1a20>]"
      ]
     },
     "execution_count": 12,
     "metadata": {},
     "output_type": "execute_result"
    },
    {
     "data": {
      "image/png": "[encoded data removed]",
      "text/plain": [
       "<matplotlib.figure.Figure at 0x1b2b3f15208>"
      ]
     },
     "metadata": {},
     "output_type": "display_data"
    }
   ],
   "source": [
    "plt.plot(testPCA.history[0]) # quikly hits max variance"
   ]
  },
  {
   "cell_type": "code",
   "execution_count": 13,
   "metadata": {},
   "outputs": [],
   "source": [
    "components = testPCA.get_all_components(X)"
   ]
  },
  {
   "cell_type": "code",
   "execution_count": 14,
   "metadata": {
    "scrolled": false
   },
   "outputs": [
    {
     "data": {
      "image/png": "[encoded data removed]",
      "text/plain": [
       "<matplotlib.figure.Figure at 0x1b2b74e9198>"
      ]
     },
     "metadata": {},
     "output_type": "display_data"
    }
   ],
   "source": [
    "fig, ax = plt.subplots(figsize = (5,5))\n",
    "ax.set_xlim(-30,30)\n",
    "ax.set_ylim(-30,30)\n",
    "plt.scatter(X[:,0],X[:,1])\n",
    "for component in components:\n",
    "    ax.plot([0,component[0]*10], [0, component[1]*10],c = 'red')"
   ]
  },
  {
   "cell_type": "code",
   "execution_count": 15,
   "metadata": {},
   "outputs": [
    {
     "name": "stdout",
     "output_type": "stream",
     "text": [
      "[ 0.85092997  0.52527915]\n",
      "[-0.52527915  0.85092997]\n"
     ]
    }
   ],
   "source": [
    "for component in components:\n",
    "    print(component)"
   ]
  },
  {
   "cell_type": "code",
   "execution_count": 16,
   "metadata": {},
   "outputs": [
    {
     "data": {
      "text/plain": [
       "array([[-0.85092997, -0.52527915],\n",
       "       [-0.52527915,  0.85092997]])"
      ]
     },
     "execution_count": 16,
     "metadata": {},
     "output_type": "execute_result"
    }
   ],
   "source": [
    "sklearn_pca.components_"
   ]
  },
  {
   "cell_type": "markdown",
   "metadata": {},
   "source": [
    "We can see this method gives equivalent results to those in SKLearn. This is a good check. Notice that the signs are flipped on the first component, but this would just be equivalent to multiplying the first set of weights by -1. The axis is equivalent."
   ]
  }
 ],
 "metadata": {
  "kernelspec": {
   "display_name": "Python 3",
   "language": "python",
   "name": "python3"
  },
  "language_info": {
   "codemirror_mode": {
    "name": "ipython",
    "version": 3
   },
   "file_extension": ".py",
   "mimetype": "text/x-python",
   "name": "python",
   "nbconvert_exporter": "python",
   "pygments_lexer": "ipython3",
   "version": "3.6.4"
  }
 },
 "nbformat": 4,
 "nbformat_minor": 2
}
